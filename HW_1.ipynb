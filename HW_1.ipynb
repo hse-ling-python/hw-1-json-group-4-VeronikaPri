{
 "cells": [
  {
   "cell_type": "markdown",
   "metadata": {},
   "source": [
    "# Домашняя работа №1"
   ]
  },
  {
   "cell_type": "markdown",
   "metadata": {},
   "source": [
    "## Разбор твиттов\n"
   ]
  },
  {
   "cell_type": "markdown",
   "metadata": {},
   "source": [
    "##### Предварительная подготовка\n",
    "Подключим исправления."
   ]
  },
  {
   "cell_type": "code",
   "execution_count": 1,
   "metadata": {},
   "outputs": [],
   "source": [
    "%load_ext pycodestyle_magic\n",
    "%pycodestyle_on"
   ]
  },
  {
   "cell_type": "code",
   "execution_count": 2,
   "metadata": {},
   "outputs": [],
   "source": [
    "import json"
   ]
  },
  {
   "cell_type": "markdown",
   "metadata": {},
   "source": [
    "Прочитаем файл и переведем его в формат питона."
   ]
  },
  {
   "cell_type": "code",
   "execution_count": 3,
   "metadata": {},
   "outputs": [],
   "source": [
    "twitter = []\n",
    "path = \"Downloads//hse-python-2nd-2019//json_data//hw_3_twitter.json\"\n",
    "for line in open(path):\n",
    "    twitter.append(json.loads(line))"
   ]
  },
  {
   "cell_type": "markdown",
   "metadata": {},
   "source": [
    "##### 1) Количество твитов\n",
    "Посчитаем, сколько твитов у нас в наборе:"
   ]
  },
  {
   "cell_type": "code",
   "execution_count": 4,
   "metadata": {},
   "outputs": [
    {
     "name": "stdout",
     "output_type": "stream",
     "text": [
      "Кол-во твиттов: 2556\n"
     ]
    }
   ],
   "source": [
    "tweet_quantity = len(twitter)\n",
    "print(\"Кол-во твиттов: \" + str(tweet_quantity))"
   ]
  },
  {
   "cell_type": "markdown",
   "metadata": {},
   "source": [
    "##### 2) Удаленные твиты\n",
    "Посчитаем, сколько у нас удаленных твитов и выведем их процент от общего числа твитов, округленный до 3 цифр после запятой:"
   ]
  },
  {
   "cell_type": "code",
   "execution_count": 5,
   "metadata": {},
   "outputs": [
    {
     "name": "stdout",
     "output_type": "stream",
     "text": [
      "Процент удаленных твитов - 14.163%\n"
     ]
    }
   ],
   "source": [
    "# сделаем счетчик на удаленные твиты\n",
    "deleted_tweets = 0\n",
    "for tweet in twitter:\n",
    "    if tweet.get(\"delete\") is not None:\n",
    "        deleted_tweets += 1\n",
    "# посчитаем их процент от всех твиттов, округленный до 3 цифр после запятой\n",
    "del_percent = round((deleted_tweets / tweet_quantity) * 100, 3)\n",
    "print(\"Процент удаленных твитов - \" + str(del_percent) + \"%\")"
   ]
  },
  {
   "cell_type": "markdown",
   "metadata": {},
   "source": [
    "##### 3) Языки твитов\n",
    "Выведем самые популярные языки, на которых были написаны наши твиты:"
   ]
  },
  {
   "cell_type": "code",
   "execution_count": 6,
   "metadata": {},
   "outputs": [],
   "source": [
    "# создадим список из языков каждого твита\n",
    "langs = []\n",
    "for tweet in twitter:\n",
    "    if tweet.get(\"lang\") is not None:\n",
    "        langs.append(tweet.get(\"lang\"))"
   ]
  },
  {
   "cell_type": "code",
   "execution_count": 7,
   "metadata": {},
   "outputs": [],
   "source": [
    "from collections import Counter"
   ]
  },
  {
   "cell_type": "code",
   "execution_count": 8,
   "metadata": {},
   "outputs": [],
   "source": [
    "# из списка создадим Counter\n",
    "lang_count = Counter(langs)"
   ]
  },
  {
   "cell_type": "code",
   "execution_count": 9,
   "metadata": {},
   "outputs": [
    {
     "name": "stdout",
     "output_type": "stream",
     "text": [
      "Самые популярные 10 языков твиттов:\n",
      "1)\ten\t719\n",
      "2)\tja\t438\n",
      "3)\tes\t173\n",
      "4)\tko\t149\n",
      "5)\tth\t123\n",
      "6)\tar\t119\n",
      "7)\tund\t117\n",
      "8)\tin\t71\n",
      "9)\tpt\t69\n",
      "10)\tfr\t35\n"
     ]
    }
   ],
   "source": [
    "# и напишем 10 самых популярных языков\n",
    "print(\"Самые популярные 10 языков твиттов:\")\n",
    "i = 1\n",
    "for duo in lang_count.most_common(10):\n",
    "    lang = duo[0]\n",
    "    value = duo[1]\n",
    "    print(str(i) + \")\" + \"\\t\" + lang + \"\\t\" + str(value))\n",
    "    i += 1"
   ]
  },
  {
   "cell_type": "markdown",
   "metadata": {},
   "source": [
    "##### 4) Поиск повторяющихся твитов\n",
    "\n",
    "Найдем твиты, написанные от одного и того же пользователя, а затем выведем, сколько получилось таких пользователей и твитов. Здесь я ищу по id, потому что это 100% уникальные значения, которые не будут повторяться у разных пользователей. Про имена пользователей я не очень в курсе, могут они повторяться или нет.\n",
    "\n",
    "Сначала найдем id и запишем в список, где они смогут повторяться."
   ]
  },
  {
   "cell_type": "code",
   "execution_count": 10,
   "metadata": {},
   "outputs": [],
   "source": [
    "# будущий счетчик кол-ва твитов пользователей\n",
    "id_tweets = []\n",
    "# только для неудаленных\n",
    "id_norm_tweets = []\n",
    "for tweet in twitter:\n",
    "    # для нормальных твитов\n",
    "    if tweet.get(\"user\") is not None:\n",
    "        u_id = tweet[\"user\"].get(\"id_str\")\n",
    "        id_tweets.append(u_id)\n",
    "        id_norm_tweets.append(u_id)\n",
    "    # для удаленных\n",
    "    else:\n",
    "        if tweet[\"delete\"].get(\"status\") is not None:\n",
    "            if tweet[\"delete\"][\"status\"].get(\"user_id_str\") is not None:\n",
    "                u_id = tweet[\"delete\"][\"status\"].get(\"user_id_str\")\n",
    "                id_tweets.append(u_id)"
   ]
  },
  {
   "cell_type": "markdown",
   "metadata": {},
   "source": [
    "Теперь список с id преобразуем в Counter и получаем кол-во твитов для каждого id. Для тех твитов, кол-во которых больше 1, записываем в словарь."
   ]
  },
  {
   "cell_type": "code",
   "execution_count": 11,
   "metadata": {},
   "outputs": [
    {
     "name": "stdout",
     "output_type": "stream",
     "text": [
      "Кол-во авторов с повторяющимися твитами, включая удаленные: 66\n",
      "Кол-во авторов с повторяющимися твитами, НЕ включая удаленные: 25\n"
     ]
    }
   ],
   "source": [
    "# финальные словари\n",
    "tweet_repeat = {}\n",
    "norm_tweet_repeat = {}\n",
    "# делаем из списка counter\n",
    "id_tweets = Counter(id_tweets)\n",
    "# и из только неудаленных\n",
    "id_norm_tweets = Counter(id_norm_tweets)\n",
    "# записываем имя с кол-вом твитов > 1 в словарь\n",
    "for key, value in id_tweets.items():\n",
    "    if value > 1:\n",
    "        tweet_repeat[key] = value\n",
    "answer = \"Кол-во авторов с повторяющимися твитами, включая удаленные: \"\n",
    "print(answer + str(len(tweet_repeat)))\n",
    "# и для неудаленных\n",
    "for key, value in id_norm_tweets.items():\n",
    "    if value > 1:\n",
    "        norm_tweet_repeat[key] = value\n",
    "answer = \"Кол-во авторов с повторяющимися твитами, НЕ включая удаленные: \"\n",
    "print(answer + str(len(norm_tweet_repeat)))"
   ]
  },
  {
   "cell_type": "markdown",
   "metadata": {},
   "source": [
    "##### 5) Популярные хештеги\n",
    "Распечатаем 20 самых популярных хештегов. Для этого создадим список из них из каждого твита, затем переведем в Counter."
   ]
  },
  {
   "cell_type": "code",
   "execution_count": 12,
   "metadata": {},
   "outputs": [
    {
     "name": "stdout",
     "output_type": "stream",
     "text": [
      "20 самых популярных хештегов\n",
      "хештег                        кол-во упоминаний\n",
      "BTS                           17\n",
      "방탄소년단                         13\n",
      "AMAs                          11\n",
      "人気投票ガチャ                       8\n",
      "태형                            7\n",
      "뷔                             6\n",
      "BTSinChicago                  5\n",
      "BTSLoveYourselfTour           5\n",
      "오늘의방탄                         5\n",
      "PledgeForSwachhBharat         5\n",
      "MPN                           5\n",
      "PCAs                          4\n",
      "V                             4\n",
      "시카고1회차공연                      4\n",
      "เป๊กผลิตโชค                   4\n",
      "JIMIN                         4\n",
      "running                       3\n",
      "NCT                           3\n",
      "지민                            3\n",
      "WajahmuPlastik                3\n"
     ]
    }
   ],
   "source": [
    "# список для всех хештегов\n",
    "hash_list = []\n",
    "# достаем названия хештегов из твитов и кладем в список\n",
    "for tweet in twitter:\n",
    "    if tweet.get(\"entities\") is not None:\n",
    "        # хештеги в одном твите\n",
    "        hashtag_unit = tweet[\"entities\"].get(\"hashtags\")\n",
    "        if hashtag_unit is not None and hashtag_unit != []:\n",
    "            # каждый хештег в одном твите\n",
    "            for hashtag in hashtag_unit:\n",
    "                # текст каждого хештега\n",
    "                tag = hashtag.get(\"text\")\n",
    "                if tag is not None:\n",
    "                    hash_list.append(tag)\n",
    "hash_list = Counter(hash_list)\n",
    "print(\"20 самых популярных хештегов\")\n",
    "print(\"{:<30}{}\".format(\"хештег\", \"кол-во упоминаний\"))\n",
    "for duo in hash_list.most_common(20):\n",
    "    hashtag = duo[0]\n",
    "    value = duo[1]\n",
    "    print(\"{:<30}{}\".format(hashtag, value))"
   ]
  },
  {
   "cell_type": "markdown",
   "metadata": {},
   "source": [
    "Извините, ровно значения распечатать не получилось, скорее всего из-за разных шрифтов\\языков."
   ]
  },
  {
   "cell_type": "markdown",
   "metadata": {},
   "source": [
    "##### 6) Частотный словарь по оригинальным твитам\n",
    "Составим частотный словарь по вхождениям слов в твиты на английском языке. Для этого берем все англоязычные твиты и при этом не ретвиты и не quoted, и достаем из них тексты, складываем с список. Здесь я беру и оригинальные твиты и оригинальные версии из ретвитов (а вдруг кто-то ретвитнул текст, которого не было в оригинальном состоянии в данной базе твитов), поэтому приходится избавляться от одинаковых твитов еще и после того, как мы их вытащили из twitter."
   ]
  },
  {
   "cell_type": "code",
   "execution_count": 13,
   "metadata": {},
   "outputs": [],
   "source": [
    "from string import punctuation"
   ]
  },
  {
   "cell_type": "code",
   "execution_count": 14,
   "metadata": {},
   "outputs": [],
   "source": [
    "# список из текстов твитов\n",
    "twit_list = []\n",
    "# список слов из твитов\n",
    "word_list = []\n",
    "for tweet in twitter:\n",
    "    # если твит на английском\n",
    "    if tweet.get(\"lang\") is not None and tweet.get(\"lang\") == \"en\":\n",
    "        q_s = \"quoted_status\"\n",
    "        r_s = \"retweeted_status\"\n",
    "        # если это не ретвит c retweeted status или quoted_status\n",
    "        if tweet.get(r_s) is None and tweet.get(q_s) is None:\n",
    "            if tweet.get(\"text\") is not None:\n",
    "                text = tweet.get(\"text\")\n",
    "                twit_list.append(text)"
   ]
  },
  {
   "cell_type": "markdown",
   "metadata": {},
   "source": [
    "Получив список из текстов, приводим каждый к нижнему регистру, разбиваем каждый на слова, очищаем от пунктуации и заносим в список, который затем преобразуем в Counter. "
   ]
  },
  {
   "cell_type": "code",
   "execution_count": 15,
   "metadata": {},
   "outputs": [],
   "source": [
    "# обрабатываем текст\n",
    "for tweet in twit_list:\n",
    "    tweet = tweet.lower()\n",
    "    tweet = tweet.split()\n",
    "    for word in tweet:\n",
    "        if word not in punctuation and word != \"\":\n",
    "            word = word.strip(punctuation)\n",
    "            word_list.append(word)\n",
    "# делаем counter из списка слов\n",
    "word_list = Counter(word_list)"
   ]
  },
  {
   "cell_type": "markdown",
   "metadata": {},
   "source": [
    "Остается вывести результаты:"
   ]
  },
  {
   "cell_type": "code",
   "execution_count": 16,
   "metadata": {},
   "outputs": [
    {
     "name": "stdout",
     "output_type": "stream",
     "text": [
      "50 самых частых слов\n",
      "слово                         кол-во упоминаний\n",
      "the                           106\n",
      "to                            79\n",
      "a                             65\n",
      "i                             60\n",
      "and                           57\n",
      "you                           45\n",
      "for                           40\n",
      "is                            40\n",
      "of                            40\n",
      "it                            37\n",
      "in                            32\n",
      "that                          30\n",
      "my                            26\n",
      "on                            25\n",
      "me                            25\n",
      "be                            22\n",
      "are                           20\n",
      "this                          19\n",
      "have                          19\n",
      "so                            18\n",
      "but                           17\n",
      "at                            17\n",
      "get                           16\n",
      "not                           16\n",
      "more                          16\n",
      "with                          16\n",
      "what                          15\n",
      "your                          15\n",
      "just                          14\n",
      "about                         13\n",
      "now                           12\n",
      "up                            11\n",
      "we                            11\n",
      "all                           10\n",
      "only                          10\n",
      "was                           10\n",
      "hit                           10\n",
      "out                           9\n",
      "today                         9\n",
      "if                            9\n",
      "i’m                           9\n",
      "one                           9\n",
      "who                           9\n",
      "can                           8\n",
      "from                          8\n",
      "like                          8\n",
      "he                            8\n",
      "people                        8\n",
      "they                          8\n",
      "i'm                           8\n"
     ]
    }
   ],
   "source": [
    "print(\"50 самых частых слов\")\n",
    "print(\"{:<30}{}\".format(\"слово\", \"кол-во упоминаний\"))\n",
    "for duo in word_list.most_common(50):\n",
    "    word = duo[0]\n",
    "    value = duo[1]\n",
    "    print(\"{:<30}{}\".format(word, value))"
   ]
  },
  {
   "cell_type": "markdown",
   "metadata": {},
   "source": [
    "##### 7) Топ-10 пользователей по количеству подписчиков\n",
    "Выведем пользователей с самым большим кол-вом подписчиков. Для этого запишем словарь с никнеймами и кол-вом подписчиков."
   ]
  },
  {
   "cell_type": "code",
   "execution_count": 17,
   "metadata": {},
   "outputs": [],
   "source": [
    "# для записи имен по ключам-id\n",
    "id_names = {}\n",
    "for tweet in twitter:\n",
    "    if tweet.get(\"user\") is not None:\n",
    "        u_name = tweet[\"user\"].get(\"name\")\n",
    "        u_id = tweet[\"user\"].get(\"id_str\")\n",
    "        id_names[u_id] = u_name\n",
    "# словарь с никнеймами и кол-вом подписчиков\n",
    "popularity = {}\n",
    "# извлекаем кол-во подписчиков и id\n",
    "for tweet in twitter:\n",
    "    if tweet.get(\"user\") is not None:\n",
    "        u_id = tweet[\"user\"].get(\"id_str\")\n",
    "        if tweet[\"user\"].get(\"followers_count\") is not None:\n",
    "            popularity[id_names[u_id]] = tweet[\"user\"].get(\"followers_count\")\n",
    "fin_pop = Counter(popularity).most_common(10)"
   ]
  },
  {
   "cell_type": "markdown",
   "metadata": {},
   "source": [
    "Теперь можно рапечатать 10 самых популярных пользователей."
   ]
  },
  {
   "cell_type": "code",
   "execution_count": 18,
   "metadata": {},
   "outputs": [
    {
     "name": "stdout",
     "output_type": "stream",
     "text": [
      "50 самых частых слов\n",
      "Пользователь                  кол-во подписчиков\n",
      "Filosofía♕                    2521403\n",
      "FITNESS Magazine              1491309\n",
      "malaysiakini.com              1206759\n",
      "NYT Science                   1137374\n",
      "Gramática                     625463\n",
      "TGRT Haber                    392472\n",
      "The Sun Football ⚽            383698\n",
      "Melbourne, Australia          374222\n",
      "Roznama Express               318189\n",
      "💞 ცųཞɠɛཞცơơɠıɛ 💞              311319\n"
     ]
    }
   ],
   "source": [
    "# распечатываем\n",
    "fin_pop = Counter(popularity).most_common(10)\n",
    "print(\"50 самых частых слов\")\n",
    "print(\"{:<30}{}\".format(\"Пользователь\", \"кол-во подписчиков\"))\n",
    "for duo in fin_pop:\n",
    "    user = duo[0]\n",
    "    followers = duo[1]\n",
    "    print(\"{:<30}{}\".format(user, followers))"
   ]
  },
  {
   "cell_type": "markdown",
   "metadata": {},
   "source": [
    "##### 8) Топ-10 источников твита\n",
    "Выудим из каждого твита его источник(в виде html строки), и из него, воспользовавшись регулярным выражением, вынем название приложения, которое запишем в список. Затем преобразуем список в Counter."
   ]
  },
  {
   "cell_type": "code",
   "execution_count": 19,
   "metadata": {},
   "outputs": [],
   "source": [
    "import re\n",
    "sources = []\n",
    "for tweet in twitter:\n",
    "    if tweet.get(\"source\") is not None:\n",
    "        source = tweet.get(\"source\")\n",
    "        pattern = '<a href=\".*?\" rel=\"nofollow\">(.+?)</a>'\n",
    "        match = re.search(pattern, source)\n",
    "        if match is not None:\n",
    "            sources.append(match.group(1))\n",
    "sources = Counter(sources)"
   ]
  },
  {
   "cell_type": "markdown",
   "metadata": {},
   "source": [
    "Теперь распечатаем 10 самых популярных."
   ]
  },
  {
   "cell_type": "code",
   "execution_count": 20,
   "metadata": {},
   "outputs": [
    {
     "name": "stdout",
     "output_type": "stream",
     "text": [
      "10 самых популярных источников\n",
      "Источник                                          кол-во в твитах\n",
      "Twitter for iPhone                                800\n",
      "Twitter for Android                               695\n",
      "Twitter Web Client                                140\n",
      "twittbot.net                                      122\n",
      "Twitter Lite                                      51\n",
      "Twitter for iPad                                  28\n",
      "TweetDeck                                         23\n",
      "Facebook                                          17\n",
      "IFTTT                                             14\n",
      "تطبيق قرآني                                       10\n"
     ]
    }
   ],
   "source": [
    "print(\"10 самых популярных источников\")\n",
    "print(\"{:<50}{}\".format(\"Источник\", \"кол-во в твитах\"))\n",
    "for duo in sources.most_common(10):\n",
    "    app = duo[0]\n",
    "    rate = duo[1]\n",
    "    print(\"{:<50}{}\".format(app, rate))"
   ]
  }
 ],
 "metadata": {
  "kernelspec": {
   "display_name": "Python 3",
   "language": "python",
   "name": "python3"
  },
  "language_info": {
   "codemirror_mode": {
    "name": "ipython",
    "version": 3
   },
   "file_extension": ".py",
   "mimetype": "text/x-python",
   "name": "python",
   "nbconvert_exporter": "python",
   "pygments_lexer": "ipython3",
   "version": "3.7.4"
  }
 },
 "nbformat": 4,
 "nbformat_minor": 2
}
