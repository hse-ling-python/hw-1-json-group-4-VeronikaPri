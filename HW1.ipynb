{
 "cells": [
  {
   "cell_type": "markdown",
   "metadata": {},
   "source": [
    "# Домашняя работа №1"
   ]
  },
  {
   "cell_type": "markdown",
   "metadata": {},
   "source": [
    "## Разбор твиттов\n"
   ]
  },
  {
   "cell_type": "markdown",
   "metadata": {},
   "source": [
    "##### Предварительная подготовка\n",
    "Подключим исправления."
   ]
  },
  {
   "cell_type": "code",
   "execution_count": 1,
   "metadata": {},
   "outputs": [],
   "source": [
    "%load_ext pycodestyle_magic\n",
    "%pycodestyle_on"
   ]
  },
  {
   "cell_type": "code",
   "execution_count": 2,
   "metadata": {},
   "outputs": [],
   "source": [
    "import json"
   ]
  },
  {
   "cell_type": "markdown",
   "metadata": {},
   "source": [
    "Прочитаем файл и переведем его в формат питона."
   ]
  },
  {
   "cell_type": "code",
   "execution_count": 3,
   "metadata": {},
   "outputs": [],
   "source": [
    "twitter = []\n",
    "path = \"Downloads//hse-python-2nd-2019//json_data//hw_3_twitter.json\"\n",
    "for line in open(path):\n",
    "    twitter.append(json.loads(line))"
   ]
  },
  {
   "cell_type": "markdown",
   "metadata": {},
   "source": [
    "##### 1) Количество твитов\n",
    "Посчитаем, сколько твитов у нас в наборе:"
   ]
  },
  {
   "cell_type": "code",
   "execution_count": 4,
   "metadata": {},
   "outputs": [
    {
     "name": "stdout",
     "output_type": "stream",
     "text": [
      "Кол-во твиттов: 2556\n"
     ]
    }
   ],
   "source": [
    "tweet_quantity = len(twitter)\n",
    "print(\"Кол-во твиттов: \" + str(tweet_quantity))"
   ]
  },
  {
   "cell_type": "markdown",
   "metadata": {},
   "source": [
    "##### 2) Удаленные твиты\n",
    "Посчитаем, сколько у нас удаленных твитов и выведем их процент от общего числа твитов, округленный до 3 цифр после запятой:"
   ]
  },
  {
   "cell_type": "code",
   "execution_count": 5,
   "metadata": {},
   "outputs": [
    {
     "name": "stdout",
     "output_type": "stream",
     "text": [
      "Процент удаленных твитов - 14.163%\n"
     ]
    }
   ],
   "source": [
    "# сделаем счетчик на удаленные твиты\n",
    "deleted_tweets = 0\n",
    "for tweet in twitter:\n",
    "    if tweet.get(\"delete\") is not None:\n",
    "        deleted_tweets += 1\n",
    "# посчитаем их процент от всех твиттов, округленный до 3 цифр после запятой\n",
    "del_percent = round((deleted_tweets / tweet_quantity) * 100, 3)\n",
    "print(\"Процент удаленных твитов - \" + str(del_percent) + \"%\")"
   ]
  },
  {
   "cell_type": "markdown",
   "metadata": {},
   "source": [
    "##### 3) Языки твитов\n",
    "Выведем самые популярные языки, на которых были написаны наши твиты:"
   ]
  },
  {
   "cell_type": "code",
   "execution_count": 6,
   "metadata": {},
   "outputs": [],
   "source": [
    "# создадим список из языков каждого твита\n",
    "langs = []\n",
    "for tweet in twitter:\n",
    "    if tweet.get(\"lang\") is not None:\n",
    "        langs.append(tweet.get(\"lang\"))"
   ]
  },
  {
   "cell_type": "code",
   "execution_count": 7,
   "metadata": {},
   "outputs": [],
   "source": [
    "from collections import Counter"
   ]
  },
  {
   "cell_type": "code",
   "execution_count": 8,
   "metadata": {},
   "outputs": [],
   "source": [
    "# из списка создадим Counter\n",
    "lang_count = Counter(langs)"
   ]
  },
  {
   "cell_type": "code",
   "execution_count": 9,
   "metadata": {},
   "outputs": [
    {
     "name": "stdout",
     "output_type": "stream",
     "text": [
      "Самые популярные 10 языков твиттов:\n",
      "1)\ten\t719\n",
      "2)\tja\t438\n",
      "3)\tes\t173\n",
      "4)\tko\t149\n",
      "5)\tth\t123\n",
      "6)\tar\t119\n",
      "7)\tund\t117\n",
      "8)\tin\t71\n",
      "9)\tpt\t69\n",
      "10)\tfr\t35\n"
     ]
    }
   ],
   "source": [
    "# и напишем 10 самых популярных языков\n",
    "print(\"Самые популярные 10 языков твиттов:\")\n",
    "i = 1\n",
    "for duo in lang_count.most_common(10):\n",
    "    lang = duo[0]\n",
    "    value = duo[1]\n",
    "    print(str(i) + \")\" + \"\\t\" + lang + \"\\t\" + str(value))\n",
    "    i += 1"
   ]
  },
  {
   "cell_type": "markdown",
   "metadata": {},
   "source": [
    "##### 4) Поиск повторяющихся твитов\n",
    "\n",
    "Найдем твиты, написанные от одного и того же пользователя, а затем выведем, сколько получилось таких пользователей и твитов. Здесь я ищу по id, потому что это 100% уникальные значения, которые не будут повторяться у разных пользователей. Про имена пользователей я не очень в курсе, могут они повторяться или нет.\n",
    "\n",
    "Сначала найдем id и имя пользователя каждого твита и запишем парой в словарь, а id еще и в список, где они смогут повторяться."
   ]
  },
  {
   "cell_type": "code",
   "execution_count": 10,
   "metadata": {},
   "outputs": [],
   "source": [
    "# для записи имен по ключам-id\n",
    "id_names = {}\n",
    "# будущий счетчик кол-ва твитов пользователей\n",
    "id_tweets = []\n",
    "# конечный словарь с именами пользователей и кол-вом повторений твитов\n",
    "tweet_repeat = {}\n",
    "for tweet in twitter:\n",
    "    if tweet.get(\"user\") is not None:\n",
    "        u_name = tweet[\"user\"].get(\"name\")\n",
    "        u_id = tweet[\"user\"].get(\"id_str\")\n",
    "        if u_id is not None and u_name is not None:\n",
    "            id_names[u_id] = u_name\n",
    "            id_tweets.append(u_id)"
   ]
  },
  {
   "cell_type": "markdown",
   "metadata": {},
   "source": [
    "Теперь список с id преобразуем в Counter и получаем кол-во твитов для каждого id. Для тех твитов, кол-во которых больше 1, записываем их число как значение ключа имя, используя значения словаря с именами и id."
   ]
  },
  {
   "cell_type": "code",
   "execution_count": 11,
   "metadata": {},
   "outputs": [],
   "source": [
    "# делаем из списка counter\n",
    "id_tweets = Counter(id_tweets)\n",
    "# записываем имя с кол-вом твитов > 1 в словарь\n",
    "for key, value in id_tweets.items():\n",
    "    if value > 1:\n",
    "        tweet_repeat[id_names[key]] = value\n",
    "# кол-во пользователей с повторяющимися твитами\n",
    "users_num = len(tweet_repeat)"
   ]
  },
  {
   "cell_type": "markdown",
   "metadata": {},
   "source": [
    "А теперь распечатаем кол-во юзеров с несколькими твитами. "
   ]
  },
  {
   "cell_type": "code",
   "execution_count": 12,
   "metadata": {},
   "outputs": [
    {
     "name": "stdout",
     "output_type": "stream",
     "text": [
      "Кол-во юзеров с несколькими твитами: 25\n",
      "\n",
      "Повторяющиеся твиты:\n",
      "Babber sher ki sher Beti был автором 2 твитов\n",
      "Bryan Lujan был автором 2 твитов\n",
      "みんなのマラソン情報 был автором 2 твитов\n",
      "@kabirsaheb4 был автором 2 твитов\n",
      "Tomás был автором 2 твитов\n",
      "guitar был автором 2 твитов\n",
      "Gramática был автором 2 твитов\n",
      "🎃spooky👻 juvederm whisperer был автором 2 твитов\n",
      "🇲🇽 Ǥonzaℓez🇲🇽 был автором 2 твитов\n",
      "noor был автором 2 твитов\n",
      "ella-taroskop был автором 2 твитов\n",
      "Harsh Garg был автором 2 твитов\n",
      "💕ﺣﺮﯾﻢ ﻓﺎﻃﻤٰﮧ💕 был автором 2 твитов\n",
      "Danish Fazal был автором 2 твитов\n",
      "ㅇㄷㅎ был автором 2 твитов\n",
      "Dr.Ram Sarswat был автором 2 твитов\n",
      "Şükranovic был автором 2 твитов\n",
      "آقاسم был автором 2 твитов\n",
      "こぶちゃ был автором 2 твитов\n",
      "강냥이네 아꼬 был автором 2 твитов\n",
      "Ones Sinus Pangaribuan был автором 2 твитов\n",
      "nugu? был автором 2 твитов\n",
      "Kel! был автором 2 твитов\n",
      "Dr.RCNishad был автором 2 твитов\n",
      "فيديوهات حول العالم🌍 был автором 2 твитов\n"
     ]
    }
   ],
   "source": [
    "# распечатываем\n",
    "print(\"Кол-во юзеров с несколькими твитами: \" + str(users_num) + \"\\n\")\n",
    "print(\"Повторяющиеся твиты:\")\n",
    "for key in sorted(tweet_repeat, key=tweet_repeat.get, reverse=True):\n",
    "    print(\"{} был автором {} твитов\".format(key, tweet_repeat[key]))"
   ]
  },
  {
   "cell_type": "markdown",
   "metadata": {},
   "source": [
    "##### 5) Популярные хештеги\n",
    "Распечатаем 20 самых популярных хештегов. Для этого создадим список из них из каждого твита, затем переведем в Counter."
   ]
  },
  {
   "cell_type": "code",
   "execution_count": 13,
   "metadata": {},
   "outputs": [
    {
     "name": "stdout",
     "output_type": "stream",
     "text": [
      "20 самых популярных хештегов\n",
      "хештег                        кол-во упоминаний\n",
      "BTS                           17\n",
      "방탄소년단                         13\n",
      "AMAs                          11\n",
      "人気投票ガチャ                       8\n",
      "태형                            7\n",
      "뷔                             6\n",
      "BTSinChicago                  5\n",
      "BTSLoveYourselfTour           5\n",
      "오늘의방탄                         5\n",
      "PledgeForSwachhBharat         5\n",
      "MPN                           5\n",
      "PCAs                          4\n",
      "V                             4\n",
      "시카고1회차공연                      4\n",
      "เป๊กผลิตโชค                   4\n",
      "JIMIN                         4\n",
      "running                       3\n",
      "NCT                           3\n",
      "지민                            3\n",
      "WajahmuPlastik                3\n"
     ]
    }
   ],
   "source": [
    "# список для всех хештегов\n",
    "hash_list = []\n",
    "# достаем названия хештегов из твитов и кладем в список\n",
    "for tweet in twitter:\n",
    "    if tweet.get(\"entities\") is not None:\n",
    "        # хештеги в одном твите\n",
    "        hashtag_unit = tweet[\"entities\"].get(\"hashtags\")\n",
    "        if hashtag_unit is not None and hashtag_unit != []:\n",
    "            # каждый хештег в одном твите\n",
    "            for hashtag in hashtag_unit:\n",
    "                # текст каждого хештега\n",
    "                tag = hashtag.get(\"text\")\n",
    "                if tag is not None:\n",
    "                    hash_list.append(tag)\n",
    "hash_list = Counter(hash_list)\n",
    "print(\"20 самых популярных хештегов\")\n",
    "print(\"{:<30}{}\".format(\"хештег\", \"кол-во упоминаний\"))\n",
    "for duo in hash_list.most_common(20):\n",
    "    hashtag = duo[0]\n",
    "    value = duo[1]\n",
    "    print(\"{:<30}{}\".format(hashtag, value))"
   ]
  },
  {
   "cell_type": "markdown",
   "metadata": {},
   "source": [
    "Извините, ровно значения распечатать не получилось, скорее всего из-за разных шрифтов\\языков."
   ]
  },
  {
   "cell_type": "markdown",
   "metadata": {},
   "source": [
    "##### 6) Частотный словарь по оригинальным твитам\n",
    "Составим частотный словарь по вхождениям слов в твиты на английском языке. Для этого берем все англоязычные твиты, и достаем из них тексты, складываем с список. Здесь я беру и оригинальные твиты и оригинальные версии из ретвитов (а вдруг кто-то ретвитнул текст, которого не было в оригинальном состоянии в данной базе твитов), поэтому приходится избавляться от одинаковых твитов еще и после того, как мы их вытащили из twitter."
   ]
  },
  {
   "cell_type": "code",
   "execution_count": 14,
   "metadata": {},
   "outputs": [],
   "source": [
    "from string import punctuation"
   ]
  },
  {
   "cell_type": "code",
   "execution_count": 15,
   "metadata": {},
   "outputs": [],
   "source": [
    "# список из текстов твитов\n",
    "twit_list = []\n",
    "# список слов из твитов\n",
    "word_list = []\n",
    "for tweet in twitter:\n",
    "    # если твит на английском\n",
    "    if tweet.get(\"lang\") is not None and tweet.get(\"lang\") == \"en\":\n",
    "        # если это ретвит\n",
    "        r_s = \"retweeted_status\"\n",
    "        e_t = \"extended_tweet\"\n",
    "        if tweet.get(r_s) is not None:\n",
    "            # ищем исходный текст\n",
    "            if tweet[r_s].get(e_t) is not None:\n",
    "                text = tweet[r_s][e_t].get(\"full_text\")\n",
    "                if text is not None:\n",
    "                    twit_list.append(text)\n",
    "        # если это не ретвит\n",
    "        else:\n",
    "            if tweet.get(\"text\") is not None:\n",
    "                text = tweet.get(\"text\")\n",
    "                twit_list.append(text)"
   ]
  },
  {
   "cell_type": "markdown",
   "metadata": {},
   "source": [
    "Получив список из текстов превращаем его в множество уникальных текстов,приводим каждый к нижнему регистру, разбиваем каждый на слова, очищаем от пунктуации и заносим в список, который затем преобразуем в Counter. "
   ]
  },
  {
   "cell_type": "code",
   "execution_count": 16,
   "metadata": {},
   "outputs": [],
   "source": [
    "# превращаем список твитов в множество уникальный твитов\n",
    "twit_set = set(twit_list)\n",
    "# обрабатываем текст\n",
    "for tweet in twit_set:\n",
    "    tweet = tweet.lower()\n",
    "    tweet = tweet.split()\n",
    "    for word in tweet:\n",
    "        if word not in punctuation and word != \"\":\n",
    "            word = word.strip(punctuation)\n",
    "            word_list.append(word)\n",
    "# делаем counter из списка слов\n",
    "word_list = Counter(word_list)"
   ]
  },
  {
   "cell_type": "markdown",
   "metadata": {},
   "source": [
    "Остается вывести результаты:"
   ]
  },
  {
   "cell_type": "code",
   "execution_count": 17,
   "metadata": {},
   "outputs": [
    {
     "name": "stdout",
     "output_type": "stream",
     "text": [
      "50 самых частых слов\n",
      "слово                         кол-во упоминаний\n",
      "the                           258\n",
      "to                            176\n",
      "a                             144\n",
      "and                           143\n",
      "of                            123\n",
      "i                             108\n",
      "you                           105\n",
      "is                            98\n",
      "in                            89\n",
      "for                           81\n",
      "it                            67\n",
      "this                          59\n",
      "that                          58\n",
      "on                            54\n",
      "my                            51\n",
      "me                            45\n",
      "be                            43\n",
      "with                          40\n",
      "are                           39\n",
      "have                          37\n",
      "yes                           34\n",
      "he                            32\n",
      "amp                           32\n",
      "so                            31\n",
      "at                            30\n",
      "what                          30\n",
      "not                           30\n",
      "as                            29\n",
      "who                           29\n",
      "about                         28\n",
      "just                          28\n",
      "we                            28\n",
      "your                          27\n",
      "but                           27\n",
      "more                          27\n",
      "all                           27\n",
      "if                            25\n",
      "from                          25\n",
      "was                           25\n",
      "by                            24\n",
      "get                           23\n",
      "now                           22\n",
      "one                           22\n",
      "will                          21\n",
      "like                          21\n",
      "no                            20\n",
      "her                           19\n",
      "people                        19\n",
      "they                          19\n",
      "only                          18\n"
     ]
    }
   ],
   "source": [
    "print(\"50 самых частых слов\")\n",
    "print(\"{:<30}{}\".format(\"слово\", \"кол-во упоминаний\"))\n",
    "for duo in word_list.most_common(50):\n",
    "    word = duo[0]\n",
    "    value = duo[1]\n",
    "    print(\"{:<30}{}\".format(word, value))"
   ]
  },
  {
   "cell_type": "markdown",
   "metadata": {},
   "source": [
    "##### 7) Топ-10 пользователей по количеству подписчиков\n",
    "Выведем пользователей с самым большим кол-вом подписчиков. Для этого запишем словарь с никнеймами и кол-вом подписчиков, воспользовавшись id и кол-вом подписчиков каждого твита и словарем с id и именами из пункта 4."
   ]
  },
  {
   "cell_type": "code",
   "execution_count": 18,
   "metadata": {},
   "outputs": [],
   "source": [
    "# словарь с никнеймами и кол-вом подписчиков\n",
    "popularity = {}\n",
    "# извлекаем кол-во подписчиков и id\n",
    "for tweet in twitter:\n",
    "    if tweet.get(\"user\") is not None:\n",
    "        u_id = tweet[\"user\"].get(\"id_str\")\n",
    "        if tweet[\"user\"].get(\"followers_count\") is not None:\n",
    "            # id_names из 4 пункта\n",
    "            popularity[id_names[u_id]] = tweet[\"user\"].get(\"followers_count\")\n",
    "fin_pop = Counter(popularity).most_common(10)"
   ]
  },
  {
   "cell_type": "markdown",
   "metadata": {},
   "source": [
    "Теперь можно рапечатать 10 самых популярных пользователей."
   ]
  },
  {
   "cell_type": "code",
   "execution_count": 19,
   "metadata": {},
   "outputs": [
    {
     "name": "stdout",
     "output_type": "stream",
     "text": [
      "50 самых частых слов\n",
      "Пользователь                  кол-во подписчиков\n",
      "Filosofía♕                    2521403\n",
      "FITNESS Magazine              1491309\n",
      "malaysiakini.com              1206759\n",
      "NYT Science                   1137374\n",
      "Gramática                     625463\n",
      "TGRT Haber                    392472\n",
      "The Sun Football ⚽            383698\n",
      "Melbourne, Australia          374222\n",
      "Roznama Express               318189\n",
      "💞 ცųཞɠɛཞცơơɠıɛ 💞              311319\n"
     ]
    }
   ],
   "source": [
    "# распечатываем\n",
    "fin_pop = Counter(popularity).most_common(10)\n",
    "print(\"50 самых частых слов\")\n",
    "print(\"{:<30}{}\".format(\"Пользователь\", \"кол-во подписчиков\"))\n",
    "for duo in fin_pop:\n",
    "    user = duo[0]\n",
    "    followers = duo[1]\n",
    "    print(\"{:<30}{}\".format(user, followers))"
   ]
  },
  {
   "cell_type": "markdown",
   "metadata": {},
   "source": [
    "##### 8) Топ-10 источников твита\n",
    "Выудим из каждого твита его источник(в виде html строки), и из него, воспользовавшись регулярным выражением, вынем название приложения, которое запишем в список. Затем преобразуем список в Counter."
   ]
  },
  {
   "cell_type": "code",
   "execution_count": 20,
   "metadata": {},
   "outputs": [],
   "source": [
    "import re\n",
    "sources = []\n",
    "for tweet in twitter:\n",
    "    if tweet.get(\"source\") is not None:\n",
    "        source = tweet.get(\"source\")\n",
    "        pattern = '<a href=\".*?\" rel=\"nofollow\">(.+?)</a>'\n",
    "        match = re.search(pattern, source)\n",
    "        if match is not None:\n",
    "            sources.append(match.group(1))\n",
    "sources = Counter(sources)"
   ]
  },
  {
   "cell_type": "markdown",
   "metadata": {},
   "source": [
    "Теперь распечатаем 10 самых популярных."
   ]
  },
  {
   "cell_type": "code",
   "execution_count": 21,
   "metadata": {},
   "outputs": [
    {
     "name": "stdout",
     "output_type": "stream",
     "text": [
      "10 самых популярных источников\n",
      "Источник                                          кол-во в твитах\n",
      "Twitter for iPhone                                800\n",
      "Twitter for Android                               695\n",
      "Twitter Web Client                                140\n",
      "twittbot.net                                      122\n",
      "Twitter Lite                                      51\n",
      "Twitter for iPad                                  28\n",
      "TweetDeck                                         23\n",
      "Facebook                                          17\n",
      "IFTTT                                             14\n",
      "تطبيق قرآني                                       10\n"
     ]
    }
   ],
   "source": [
    "print(\"10 самых популярных источников\")\n",
    "print(\"{:<50}{}\".format(\"Источник\", \"кол-во в твитах\"))\n",
    "for duo in sources.most_common(10):\n",
    "    app = duo[0]\n",
    "    rate = duo[1]\n",
    "    print(\"{:<50}{}\".format(app, rate))"
   ]
  }
 ],
 "metadata": {
  "kernelspec": {
   "display_name": "Python 3",
   "language": "python",
   "name": "python3"
  },
  "language_info": {
   "codemirror_mode": {
    "name": "ipython",
    "version": 3
   },
   "file_extension": ".py",
   "mimetype": "text/x-python",
   "name": "python",
   "nbconvert_exporter": "python",
   "pygments_lexer": "ipython3",
   "version": "3.7.4"
  }
 },
 "nbformat": 4,
 "nbformat_minor": 2
}
